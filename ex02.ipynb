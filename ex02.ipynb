{
 "cells": [
  {
   "cell_type": "markdown",
   "id": "54e7877f-57e2-4a23-8b2d-afefbba1e7c4",
   "metadata": {},
   "source": [
    "# 2. Dataframe"
   ]
  },
  {
   "cell_type": "markdown",
   "id": "66fc7c42-6562-4c61-932a-2a57f0daa2d6",
   "metadata": {},
   "source": [
    "## Exercise 8: Net revenue"
   ]
  },
  {
   "cell_type": "code",
   "execution_count": 1,
   "id": "2c4c7beb-7cac-4f89-9d0b-3b42de02ba31",
   "metadata": {},
   "outputs": [],
   "source": [
    "import pandas as pd"
   ]
  },
  {
   "cell_type": "code",
   "execution_count": 56,
   "id": "dbc8f8ac-f960-4a49-9dd1-0a112f4ed249",
   "metadata": {},
   "outputs": [],
   "source": [
    "df = pd.DataFrame([\n",
    "{'product_id':23, 'name':'computer', 'wholesale_price': 500, 'retail_price':1000, 'sales':100},\n",
    "{'product_id':96, 'name':'Python Workout', 'wholesale_price': 35, 'retail_price':75, 'sales':1000},\n",
    "{'product_id':97, 'name':'Pandas Workout', 'wholesale_price': 35, 'retail_price':75, 'sales':500},\n",
    "{'product_id':15, 'name':'banana', 'wholesale_price': 0.5, 'retail_price':1, 'sales':200},\n",
    "{'product_id':87, 'name':'sandwich', 'wholesale_price': 3, 'retail_price':5, 'sales':300}\n",
    "])"
   ]
  },
  {
   "cell_type": "code",
   "execution_count": 57,
   "id": "ec533d71-e9da-4b99-bca0-37be976d0d7a",
   "metadata": {},
   "outputs": [
    {
     "data": {
      "text/plain": [
       "110700.0"
      ]
     },
     "execution_count": 57,
     "metadata": {},
     "output_type": "execute_result"
    }
   ],
   "source": [
    "((df.retail_price - df.wholesale_price) * df.sales).sum()"
   ]
  },
  {
   "cell_type": "markdown",
   "id": "af86b529-6ad2-49cb-a2db-816db6325fbd",
   "metadata": {},
   "source": [
    "## Exercise 9: Tax planning"
   ]
  },
  {
   "cell_type": "code",
   "execution_count": 58,
   "id": "78d4d7ae-a6f4-4a38-afd6-66da73830ab0",
   "metadata": {},
   "outputs": [],
   "source": [
    "df['current_net'] = (df.retail_price - df.wholesale_price) * df.sales"
   ]
  },
  {
   "cell_type": "code",
   "execution_count": 59,
   "id": "cb36cf3d-48c6-44f0-90b7-45b68d38e796",
   "metadata": {},
   "outputs": [],
   "source": [
    "df['after_15'] = df.current_net - df.current_net * 0.15\n",
    "df['after_20'] = df.current_net - df.current_net * 0.20\n",
    "df['after_25'] = df.current_net - df.current_net * 0.25"
   ]
  },
  {
   "cell_type": "code",
   "execution_count": 60,
   "id": "98c6f582-57fa-409d-a34c-34497bdf743c",
   "metadata": {},
   "outputs": [
    {
     "data": {
      "text/plain": [
       "current_net    110700.0\n",
       "after_15        94095.0\n",
       "after_20        88560.0\n",
       "after_25        83025.0\n",
       "dtype: float64"
      ]
     },
     "execution_count": 60,
     "metadata": {},
     "output_type": "execute_result"
    }
   ],
   "source": [
    "df[['current_net', 'after_15', 'after_20', 'after_25']].sum()"
   ]
  },
  {
   "cell_type": "markdown",
   "id": "b86ae894-e75b-48d6-b592-cc44706a5c7a",
   "metadata": {},
   "source": [
    "## Exercise 10: Adding new products"
   ]
  },
  {
   "cell_type": "code",
   "execution_count": 61,
   "id": "649b83d0-684c-4be5-8b6f-4f38fbdb87c0",
   "metadata": {},
   "outputs": [],
   "source": [
    "new_products = pd.DataFrame([\n",
    "    {'product_id':24, 'name':'phone', 'wholesale_price': 200, 'retail_price':500},\n",
    "    {'product_id':16, 'name':'apple', 'wholesale_price': 0.5, 'retail_price':1},\n",
    "    {'product_id':17, 'name':'pear', 'wholesale_price': 0.6, 'retail_price':1.2}], index=range(5,8))"
   ]
  },
  {
   "cell_type": "code",
   "execution_count": 62,
   "id": "9a7ae4fb-74ab-4ead-8a12-9f65e5cf13ac",
   "metadata": {},
   "outputs": [
    {
     "data": {
      "text/html": [
       "<div>\n",
       "<style scoped>\n",
       "    .dataframe tbody tr th:only-of-type {\n",
       "        vertical-align: middle;\n",
       "    }\n",
       "\n",
       "    .dataframe tbody tr th {\n",
       "        vertical-align: top;\n",
       "    }\n",
       "\n",
       "    .dataframe thead th {\n",
       "        text-align: right;\n",
       "    }\n",
       "</style>\n",
       "<table border=\"1\" class=\"dataframe\">\n",
       "  <thead>\n",
       "    <tr style=\"text-align: right;\">\n",
       "      <th></th>\n",
       "      <th>product_id</th>\n",
       "      <th>name</th>\n",
       "      <th>wholesale_price</th>\n",
       "      <th>retail_price</th>\n",
       "      <th>sales</th>\n",
       "      <th>current_net</th>\n",
       "      <th>after_15</th>\n",
       "      <th>after_20</th>\n",
       "      <th>after_25</th>\n",
       "    </tr>\n",
       "  </thead>\n",
       "  <tbody>\n",
       "    <tr>\n",
       "      <th>0</th>\n",
       "      <td>23</td>\n",
       "      <td>computer</td>\n",
       "      <td>500.0</td>\n",
       "      <td>1000.0</td>\n",
       "      <td>100.0</td>\n",
       "      <td>50000.0</td>\n",
       "      <td>42500.0</td>\n",
       "      <td>40000.0</td>\n",
       "      <td>37500.0</td>\n",
       "    </tr>\n",
       "    <tr>\n",
       "      <th>1</th>\n",
       "      <td>96</td>\n",
       "      <td>Python Workout</td>\n",
       "      <td>35.0</td>\n",
       "      <td>75.0</td>\n",
       "      <td>1000.0</td>\n",
       "      <td>40000.0</td>\n",
       "      <td>34000.0</td>\n",
       "      <td>32000.0</td>\n",
       "      <td>30000.0</td>\n",
       "    </tr>\n",
       "    <tr>\n",
       "      <th>2</th>\n",
       "      <td>97</td>\n",
       "      <td>Pandas Workout</td>\n",
       "      <td>35.0</td>\n",
       "      <td>75.0</td>\n",
       "      <td>500.0</td>\n",
       "      <td>20000.0</td>\n",
       "      <td>17000.0</td>\n",
       "      <td>16000.0</td>\n",
       "      <td>15000.0</td>\n",
       "    </tr>\n",
       "    <tr>\n",
       "      <th>3</th>\n",
       "      <td>15</td>\n",
       "      <td>banana</td>\n",
       "      <td>0.5</td>\n",
       "      <td>1.0</td>\n",
       "      <td>200.0</td>\n",
       "      <td>100.0</td>\n",
       "      <td>85.0</td>\n",
       "      <td>80.0</td>\n",
       "      <td>75.0</td>\n",
       "    </tr>\n",
       "    <tr>\n",
       "      <th>4</th>\n",
       "      <td>87</td>\n",
       "      <td>sandwich</td>\n",
       "      <td>3.0</td>\n",
       "      <td>5.0</td>\n",
       "      <td>300.0</td>\n",
       "      <td>600.0</td>\n",
       "      <td>510.0</td>\n",
       "      <td>480.0</td>\n",
       "      <td>450.0</td>\n",
       "    </tr>\n",
       "    <tr>\n",
       "      <th>5</th>\n",
       "      <td>24</td>\n",
       "      <td>phone</td>\n",
       "      <td>200.0</td>\n",
       "      <td>500.0</td>\n",
       "      <td>NaN</td>\n",
       "      <td>NaN</td>\n",
       "      <td>NaN</td>\n",
       "      <td>NaN</td>\n",
       "      <td>NaN</td>\n",
       "    </tr>\n",
       "    <tr>\n",
       "      <th>6</th>\n",
       "      <td>16</td>\n",
       "      <td>apple</td>\n",
       "      <td>0.5</td>\n",
       "      <td>1.0</td>\n",
       "      <td>NaN</td>\n",
       "      <td>NaN</td>\n",
       "      <td>NaN</td>\n",
       "      <td>NaN</td>\n",
       "      <td>NaN</td>\n",
       "    </tr>\n",
       "    <tr>\n",
       "      <th>7</th>\n",
       "      <td>17</td>\n",
       "      <td>pear</td>\n",
       "      <td>0.6</td>\n",
       "      <td>1.2</td>\n",
       "      <td>NaN</td>\n",
       "      <td>NaN</td>\n",
       "      <td>NaN</td>\n",
       "      <td>NaN</td>\n",
       "      <td>NaN</td>\n",
       "    </tr>\n",
       "  </tbody>\n",
       "</table>\n",
       "</div>"
      ],
      "text/plain": [
       "   product_id            name  wholesale_price  retail_price   sales  \\\n",
       "0          23        computer            500.0        1000.0   100.0   \n",
       "1          96  Python Workout             35.0          75.0  1000.0   \n",
       "2          97  Pandas Workout             35.0          75.0   500.0   \n",
       "3          15          banana              0.5           1.0   200.0   \n",
       "4          87        sandwich              3.0           5.0   300.0   \n",
       "5          24           phone            200.0         500.0     NaN   \n",
       "6          16           apple              0.5           1.0     NaN   \n",
       "7          17            pear              0.6           1.2     NaN   \n",
       "\n",
       "   current_net  after_15  after_20  after_25  \n",
       "0      50000.0   42500.0   40000.0   37500.0  \n",
       "1      40000.0   34000.0   32000.0   30000.0  \n",
       "2      20000.0   17000.0   16000.0   15000.0  \n",
       "3        100.0      85.0      80.0      75.0  \n",
       "4        600.0     510.0     480.0     450.0  \n",
       "5          NaN       NaN       NaN       NaN  \n",
       "6          NaN       NaN       NaN       NaN  \n",
       "7          NaN       NaN       NaN       NaN  "
      ]
     },
     "execution_count": 62,
     "metadata": {},
     "output_type": "execute_result"
    }
   ],
   "source": [
    "df = df.append(new_products)\n",
    "df"
   ]
  },
  {
   "cell_type": "code",
   "execution_count": 51,
   "id": "5c273ad1-ece5-4e01-b487-5346a0e05bda",
   "metadata": {},
   "outputs": [
    {
     "data": {
      "text/plain": [
       "110700.0"
      ]
     },
     "execution_count": 51,
     "metadata": {},
     "output_type": "execute_result"
    }
   ],
   "source": [
    "((df.retail_price - df.wholesale_price) * df.sales).sum()"
   ]
  },
  {
   "cell_type": "markdown",
   "id": "d952ce2b-6599-4dad-8fed-aab6af1da227",
   "metadata": {},
   "source": [
    "## Exercise 11: Best sellers"
   ]
  },
  {
   "cell_type": "code",
   "execution_count": 63,
   "id": "dcbc0ede-2c93-4075-bb49-0efc0492ddfb",
   "metadata": {},
   "outputs": [
    {
     "data": {
      "text/html": [
       "<div>\n",
       "<style scoped>\n",
       "    .dataframe tbody tr th:only-of-type {\n",
       "        vertical-align: middle;\n",
       "    }\n",
       "\n",
       "    .dataframe tbody tr th {\n",
       "        vertical-align: top;\n",
       "    }\n",
       "\n",
       "    .dataframe thead th {\n",
       "        text-align: right;\n",
       "    }\n",
       "</style>\n",
       "<table border=\"1\" class=\"dataframe\">\n",
       "  <thead>\n",
       "    <tr style=\"text-align: right;\">\n",
       "      <th></th>\n",
       "      <th>product_id</th>\n",
       "      <th>name</th>\n",
       "      <th>wholesale_price</th>\n",
       "      <th>retail_price</th>\n",
       "      <th>sales</th>\n",
       "      <th>current_net</th>\n",
       "      <th>after_15</th>\n",
       "      <th>after_20</th>\n",
       "      <th>after_25</th>\n",
       "    </tr>\n",
       "  </thead>\n",
       "  <tbody>\n",
       "    <tr>\n",
       "      <th>1</th>\n",
       "      <td>96</td>\n",
       "      <td>Python Workout</td>\n",
       "      <td>35.0</td>\n",
       "      <td>75.0</td>\n",
       "      <td>1000.0</td>\n",
       "      <td>40000.0</td>\n",
       "      <td>34000.0</td>\n",
       "      <td>32000.0</td>\n",
       "      <td>30000.0</td>\n",
       "    </tr>\n",
       "    <tr>\n",
       "      <th>2</th>\n",
       "      <td>97</td>\n",
       "      <td>Pandas Workout</td>\n",
       "      <td>35.0</td>\n",
       "      <td>75.0</td>\n",
       "      <td>500.0</td>\n",
       "      <td>20000.0</td>\n",
       "      <td>17000.0</td>\n",
       "      <td>16000.0</td>\n",
       "      <td>15000.0</td>\n",
       "    </tr>\n",
       "  </tbody>\n",
       "</table>\n",
       "</div>"
      ],
      "text/plain": [
       "   product_id            name  wholesale_price  retail_price   sales  \\\n",
       "1          96  Python Workout             35.0          75.0  1000.0   \n",
       "2          97  Pandas Workout             35.0          75.0   500.0   \n",
       "\n",
       "   current_net  after_15  after_20  after_25  \n",
       "1      40000.0   34000.0   32000.0   30000.0  \n",
       "2      20000.0   17000.0   16000.0   15000.0  "
      ]
     },
     "execution_count": 63,
     "metadata": {},
     "output_type": "execute_result"
    }
   ],
   "source": [
    "df[df.sales > df.sales.mean()]"
   ]
  },
  {
   "cell_type": "markdown",
   "id": "fdda8441-9046-462d-b379-8bfd3d6b262d",
   "metadata": {},
   "source": [
    "## Exercise 12: Finding outliers"
   ]
  },
  {
   "cell_type": "code",
   "execution_count": 68,
   "id": "58e668ac-5554-45a8-850e-107c3746fb9b",
   "metadata": {},
   "outputs": [],
   "source": [
    "df = pd.read_csv('nyc_taxi_2019-01.csv', usecols=['passenger_count', 'trip_distance'])"
   ]
  },
  {
   "cell_type": "code",
   "execution_count": 69,
   "id": "ea5b6a97-fe00-4638-9382-2578d6c1b976",
   "metadata": {},
   "outputs": [
    {
     "name": "stdout",
     "output_type": "stream",
     "text": [
      "<class 'pandas.core.frame.DataFrame'>\n",
      "RangeIndex: 7667792 entries, 0 to 7667791\n",
      "Data columns (total 2 columns):\n",
      " #   Column           Dtype  \n",
      "---  ------           -----  \n",
      " 0   passenger_count  int64  \n",
      " 1   trip_distance    float64\n",
      "dtypes: float64(1), int64(1)\n",
      "memory usage: 117.0 MB\n"
     ]
    }
   ],
   "source": [
    "df.info()"
   ]
  },
  {
   "cell_type": "code",
   "execution_count": 72,
   "id": "c98ff458-fba0-42f4-ab13-ec85392b3a1d",
   "metadata": {},
   "outputs": [
    {
     "data": {
      "text/plain": [
       "1.9"
      ]
     },
     "execution_count": 72,
     "metadata": {},
     "output_type": "execute_result"
    }
   ],
   "source": [
    "iqr = df.trip_distance.quantile(0.75) - df.trip_distance.quantile(0.25)\n",
    "iqr"
   ]
  },
  {
   "cell_type": "code",
   "execution_count": 84,
   "id": "d1c001a7-5bfb-463a-99ba-2677042030cc",
   "metadata": {},
   "outputs": [],
   "source": [
    "low_outlier = df.trip_distance < df.trip_distance.quantile(0.25) - 1.5 * iqr\n",
    "high_outlier = df.trip_distance > df.trip_distance.quantile(0.75) + 1.5 * iqr"
   ]
  },
  {
   "cell_type": "code",
   "execution_count": 85,
   "id": "7ea4e27d-a3a1-439d-bd8e-614117410888",
   "metadata": {},
   "outputs": [
    {
     "data": {
      "text/html": [
       "<div>\n",
       "<style scoped>\n",
       "    .dataframe tbody tr th:only-of-type {\n",
       "        vertical-align: middle;\n",
       "    }\n",
       "\n",
       "    .dataframe tbody tr th {\n",
       "        vertical-align: top;\n",
       "    }\n",
       "\n",
       "    .dataframe thead th {\n",
       "        text-align: right;\n",
       "    }\n",
       "</style>\n",
       "<table border=\"1\" class=\"dataframe\">\n",
       "  <thead>\n",
       "    <tr style=\"text-align: right;\">\n",
       "      <th></th>\n",
       "      <th>passenger_count</th>\n",
       "      <th>trip_distance</th>\n",
       "    </tr>\n",
       "  </thead>\n",
       "  <tbody>\n",
       "    <tr>\n",
       "      <th>12</th>\n",
       "      <td>1</td>\n",
       "      <td>8.70</td>\n",
       "    </tr>\n",
       "    <tr>\n",
       "      <th>13</th>\n",
       "      <td>1</td>\n",
       "      <td>6.30</td>\n",
       "    </tr>\n",
       "    <tr>\n",
       "      <th>23</th>\n",
       "      <td>1</td>\n",
       "      <td>12.30</td>\n",
       "    </tr>\n",
       "    <tr>\n",
       "      <th>31</th>\n",
       "      <td>1</td>\n",
       "      <td>6.57</td>\n",
       "    </tr>\n",
       "    <tr>\n",
       "      <th>33</th>\n",
       "      <td>2</td>\n",
       "      <td>19.13</td>\n",
       "    </tr>\n",
       "    <tr>\n",
       "      <th>...</th>\n",
       "      <td>...</td>\n",
       "      <td>...</td>\n",
       "    </tr>\n",
       "    <tr>\n",
       "      <th>7667759</th>\n",
       "      <td>1</td>\n",
       "      <td>19.00</td>\n",
       "    </tr>\n",
       "    <tr>\n",
       "      <th>7667760</th>\n",
       "      <td>1</td>\n",
       "      <td>8.78</td>\n",
       "    </tr>\n",
       "    <tr>\n",
       "      <th>7667763</th>\n",
       "      <td>1</td>\n",
       "      <td>5.80</td>\n",
       "    </tr>\n",
       "    <tr>\n",
       "      <th>7667779</th>\n",
       "      <td>1</td>\n",
       "      <td>7.50</td>\n",
       "    </tr>\n",
       "    <tr>\n",
       "      <th>7667782</th>\n",
       "      <td>3</td>\n",
       "      <td>8.14</td>\n",
       "    </tr>\n",
       "  </tbody>\n",
       "</table>\n",
       "<p>875456 rows × 2 columns</p>\n",
       "</div>"
      ],
      "text/plain": [
       "         passenger_count  trip_distance\n",
       "12                     1           8.70\n",
       "13                     1           6.30\n",
       "23                     1          12.30\n",
       "31                     1           6.57\n",
       "33                     2          19.13\n",
       "...                  ...            ...\n",
       "7667759                1          19.00\n",
       "7667760                1           8.78\n",
       "7667763                1           5.80\n",
       "7667779                1           7.50\n",
       "7667782                3           8.14\n",
       "\n",
       "[875456 rows x 2 columns]"
      ]
     },
     "execution_count": 85,
     "metadata": {},
     "output_type": "execute_result"
    }
   ],
   "source": [
    "outlier = df[low_outlier | high_outlier]\n",
    "outlier"
   ]
  },
  {
   "cell_type": "code",
   "execution_count": 87,
   "id": "f865e113-b435-4e80-81e0-839d5ae76fa5",
   "metadata": {},
   "outputs": [
    {
     "data": {
      "text/plain": [
       "875456"
      ]
     },
     "execution_count": 87,
     "metadata": {},
     "output_type": "execute_result"
    }
   ],
   "source": [
    "outlier.trip_distance.count()"
   ]
  },
  {
   "cell_type": "code",
   "execution_count": 88,
   "id": "0fdb3358-ec4e-4805-b8bc-69ce18727360",
   "metadata": {},
   "outputs": [
    {
     "data": {
      "text/plain": [
       "1.5796350701805688"
      ]
     },
     "execution_count": 88,
     "metadata": {},
     "output_type": "execute_result"
    }
   ],
   "source": [
    "outlier.passenger_count.mean()"
   ]
  },
  {
   "cell_type": "code",
   "execution_count": 90,
   "id": "c9dcd8c1-ee01-49d6-9b0f-8704b3551be5",
   "metadata": {},
   "outputs": [
    {
     "data": {
      "text/plain": [
       "1.5670782410373156"
      ]
     },
     "execution_count": 90,
     "metadata": {},
     "output_type": "execute_result"
    }
   ],
   "source": [
    "df.passenger_count.mean()"
   ]
  },
  {
   "cell_type": "markdown",
   "id": "c5a6bec4-1d0e-41e6-b88f-367b8ae5263a",
   "metadata": {},
   "source": [
    "## Exercise 13: Interpolation"
   ]
  },
  {
   "cell_type": "code",
   "execution_count": null,
   "id": "bff316e2-5a5e-441a-92b7-87c6588cd3fb",
   "metadata": {},
   "outputs": [],
   "source": []
  }
 ],
 "metadata": {
  "kernelspec": {
   "display_name": "Python 3 (ipykernel)",
   "language": "python",
   "name": "python3"
  },
  "language_info": {
   "codemirror_mode": {
    "name": "ipython",
    "version": 3
   },
   "file_extension": ".py",
   "mimetype": "text/x-python",
   "name": "python",
   "nbconvert_exporter": "python",
   "pygments_lexer": "ipython3",
   "version": "3.9.7"
  }
 },
 "nbformat": 4,
 "nbformat_minor": 5
}
