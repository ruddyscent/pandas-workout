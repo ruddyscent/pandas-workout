{
 "cells": [
  {
   "cell_type": "markdown",
   "id": "088285d7-ced4-4070-a1f3-9b2f56406af2",
   "metadata": {},
   "source": [
    "# 1. Series"
   ]
  },
  {
   "cell_type": "markdown",
   "id": "c4e70518-2576-4e52-98d1-33f1d48c7736",
   "metadata": {},
   "source": [
    "## Exercise 1"
   ]
  },
  {
   "cell_type": "code",
   "execution_count": 12,
   "id": "fbb3388d-1796-4ff0-bd38-8de626d0479c",
   "metadata": {},
   "outputs": [],
   "source": [
    "import pandas as pd\n",
    "import random\n",
    "\n",
    "random.seed(72)"
   ]
  },
  {
   "cell_type": "code",
   "execution_count": 25,
   "id": "74cea0b8-e90e-4f8b-932f-561b6612089d",
   "metadata": {},
   "outputs": [],
   "source": [
    "value = [random.randint(70, 100) for x in range(10)]\n",
    "month = ['September', 'October', 'November', 'December', 'January', 'February', 'March', 'April', 'May', 'June']\n",
    "score = pd.Series(value, index=month)"
   ]
  },
  {
   "cell_type": "markdown",
   "id": "a075cf6b-5b8f-4eaf-bbe8-8427f81d010c",
   "metadata": {},
   "source": [
    "### 1."
   ]
  },
  {
   "cell_type": "code",
   "execution_count": 13,
   "id": "f476dda8-7d56-4b6e-b086-33fbeccff4bd",
   "metadata": {},
   "outputs": [
    {
     "data": {
      "text/plain": [
       "85.4"
      ]
     },
     "execution_count": 13,
     "metadata": {},
     "output_type": "execute_result"
    }
   ],
   "source": [
    "score.mean()"
   ]
  },
  {
   "cell_type": "markdown",
   "id": "0f549de2-6223-4c49-9754-91780762328c",
   "metadata": {},
   "source": [
    "### 2."
   ]
  },
  {
   "cell_type": "code",
   "execution_count": 15,
   "id": "1353a5ba-8f08-4a96-ba23-9224a9871e5b",
   "metadata": {},
   "outputs": [
    {
     "data": {
      "text/plain": [
       "84.8"
      ]
     },
     "execution_count": 15,
     "metadata": {},
     "output_type": "execute_result"
    }
   ],
   "source": [
    "score.iloc[:5].mean()"
   ]
  },
  {
   "cell_type": "markdown",
   "id": "0d4bc0e9-1168-4640-9c97-d7ec2c138bc0",
   "metadata": {},
   "source": [
    "### 3."
   ]
  },
  {
   "cell_type": "code",
   "execution_count": 17,
   "id": "9495bcd3-17f4-4157-afe9-e97312f5e896",
   "metadata": {},
   "outputs": [
    {
     "data": {
      "text/plain": [
       "86.0"
      ]
     },
     "execution_count": 17,
     "metadata": {},
     "output_type": "execute_result"
    }
   ],
   "source": [
    "score[-5:].mean()"
   ]
  },
  {
   "cell_type": "markdown",
   "id": "d62cac48-7982-4f97-859c-ed704a46425f",
   "metadata": {},
   "source": [
    "### 4."
   ]
  },
  {
   "cell_type": "code",
   "execution_count": 19,
   "id": "37d2a343-5cd0-47a4-8bd4-019bba95eb8c",
   "metadata": {},
   "outputs": [
    {
     "data": {
      "text/plain": [
       "1.2000000000000028"
      ]
     },
     "execution_count": 19,
     "metadata": {},
     "output_type": "execute_result"
    }
   ],
   "source": [
    "score[-5:].mean() - score.iloc[:5].mean()"
   ]
  },
  {
   "cell_type": "markdown",
   "id": "ba0d26b0-e17d-4054-b42a-c7e8a0e19e40",
   "metadata": {},
   "source": [
    "## Exercise 2"
   ]
  },
  {
   "cell_type": "code",
   "execution_count": 35,
   "id": "80717042-52aa-4b5f-8641-2e2e91a66507",
   "metadata": {},
   "outputs": [],
   "source": [
    "import numpy as np\n",
    "import pandas as pd\n",
    "\n",
    "np.random.seed(72)"
   ]
  },
  {
   "cell_type": "code",
   "execution_count": 28,
   "id": "3b0b2a4a-1039-41db-9e57-4e8cbe035a13",
   "metadata": {},
   "outputs": [
    {
     "data": {
      "text/plain": [
       "September    44\n",
       "October      58\n",
       "November     48\n",
       "December     52\n",
       "January      55\n",
       "February     52\n",
       "March        40\n",
       "April        49\n",
       "May          49\n",
       "June         52\n",
       "dtype: int32"
      ]
     },
     "execution_count": 28,
     "metadata": {},
     "output_type": "execute_result"
    }
   ],
   "source": [
    "value = np.random.randint(40, 60, 10)\n",
    "month = month = ['September', 'October', 'November', 'December', 'January', 'February', 'March', 'April', 'May', 'June']\n",
    "score = pd.Series(value, index=month)\n",
    "score"
   ]
  },
  {
   "cell_type": "code",
   "execution_count": 30,
   "id": "f4f19926-4cb0-43f5-9921-90da426da656",
   "metadata": {},
   "outputs": [
    {
     "data": {
      "text/plain": [
       "September    79.1\n",
       "October      93.1\n",
       "November     83.1\n",
       "December     87.1\n",
       "January      90.1\n",
       "February     87.1\n",
       "March        75.1\n",
       "April        84.1\n",
       "May          84.1\n",
       "June         87.1\n",
       "dtype: float64"
      ]
     },
     "execution_count": 30,
     "metadata": {},
     "output_type": "execute_result"
    }
   ],
   "source": [
    "diff = 85 - score.mean()\n",
    "score_scaled = score + diff\n",
    "score_scaled"
   ]
  },
  {
   "cell_type": "code",
   "execution_count": 31,
   "id": "31f1ca6f-96c4-439b-b04b-4b6aa3e330a3",
   "metadata": {},
   "outputs": [
    {
     "data": {
      "text/plain": [
       "85.00000000000001"
      ]
     },
     "execution_count": 31,
     "metadata": {},
     "output_type": "execute_result"
    }
   ],
   "source": [
    "score_scaled.mean()"
   ]
  },
  {
   "cell_type": "markdown",
   "id": "ccdb0ba7-b4a4-4d95-8ad4-dafeb7a40391",
   "metadata": {},
   "source": [
    "## Exercise 3"
   ]
  },
  {
   "cell_type": "code",
   "execution_count": 42,
   "id": "45dac4a6-7b2c-4f68-8f60-92cf058c2773",
   "metadata": {},
   "outputs": [],
   "source": [
    "import numpy as np\n",
    "import pandas as pd\n",
    "\n",
    "np.random.seed(72)"
   ]
  },
  {
   "cell_type": "code",
   "execution_count": 43,
   "id": "67d83b29-9f12-490d-ac92-c7eb1bb9fbea",
   "metadata": {},
   "outputs": [
    {
     "data": {
      "text/plain": [
       "0    88\n",
       "1    19\n",
       "2    46\n",
       "3    74\n",
       "4    94\n",
       "5    69\n",
       "6    79\n",
       "7    26\n",
       "8     7\n",
       "9    29\n",
       "dtype: int32"
      ]
     },
     "execution_count": 43,
     "metadata": {},
     "output_type": "execute_result"
    }
   ],
   "source": [
    "value = pd.Series(np.random.randint(0, 100, 10))\n",
    "value"
   ]
  },
  {
   "cell_type": "code",
   "execution_count": 44,
   "id": "54957c14-d37c-4089-b4e4-f1fcc9bf7966",
   "metadata": {},
   "outputs": [
    {
     "data": {
      "text/plain": [
       "0    8\n",
       "1    1\n",
       "2    4\n",
       "3    7\n",
       "4    9\n",
       "5    6\n",
       "6    7\n",
       "7    2\n",
       "8    0\n",
       "9    2\n",
       "dtype: int32"
      ]
     },
     "execution_count": 44,
     "metadata": {},
     "output_type": "execute_result"
    }
   ],
   "source": [
    "(value / 10).astype(int)"
   ]
  },
  {
   "cell_type": "markdown",
   "id": "1d8947b5-95eb-4305-a407-ee64f3973991",
   "metadata": {},
   "source": [
    "## Exercise 4"
   ]
  },
  {
   "cell_type": "code",
   "execution_count": 60,
   "id": "dddd5a95-f11a-45bc-aae9-aa3d58529684",
   "metadata": {},
   "outputs": [],
   "source": [
    "import numpy as np\n",
    "import pandas as pd\n",
    "\n",
    "np.random.seed(72)"
   ]
  },
  {
   "cell_type": "code",
   "execution_count": 61,
   "id": "f160ac53-737b-4587-99a1-ae9a7ef65c03",
   "metadata": {},
   "outputs": [],
   "source": [
    "series = pd.Series(100 * np.random.randn(100000))"
   ]
  },
  {
   "cell_type": "code",
   "execution_count": 62,
   "id": "1a76cf04-9ce1-4288-9253-436c0daa8167",
   "metadata": {},
   "outputs": [
    {
     "data": {
      "text/plain": [
       "count    100000.000000\n",
       "mean          0.505523\n",
       "std         100.149662\n",
       "min        -474.337420\n",
       "25%         -66.796916\n",
       "50%           0.416662\n",
       "75%          68.022188\n",
       "max         395.834136\n",
       "dtype: float64"
      ]
     },
     "execution_count": 62,
     "metadata": {},
     "output_type": "execute_result"
    }
   ],
   "source": [
    "series.describe()"
   ]
  },
  {
   "cell_type": "code",
   "execution_count": 63,
   "id": "87ac3713-2380-45fb-a29e-16ffc95b6cbb",
   "metadata": {},
   "outputs": [],
   "source": [
    "series[series == series.min()] = 5 * series.max()"
   ]
  },
  {
   "cell_type": "code",
   "execution_count": 64,
   "id": "c1c82155-9b81-4abb-be72-8ce6cedbd3b2",
   "metadata": {},
   "outputs": [
    {
     "data": {
      "text/plain": [
       "count    100000.000000\n",
       "mean          0.530058\n",
       "std         100.333698\n",
       "min        -396.896989\n",
       "25%         -66.794262\n",
       "50%           0.417341\n",
       "75%          68.024746\n",
       "max        1979.170682\n",
       "dtype: float64"
      ]
     },
     "execution_count": 64,
     "metadata": {},
     "output_type": "execute_result"
    }
   ],
   "source": [
    "series.describe()"
   ]
  },
  {
   "cell_type": "markdown",
   "id": "e96c3ac8-46f9-486d-b20b-48d1dda210de",
   "metadata": {},
   "source": [
    "## Exercise 5"
   ]
  },
  {
   "cell_type": "code",
   "execution_count": 65,
   "id": "52ab4e64-de22-408a-ab21-50670a8aa153",
   "metadata": {},
   "outputs": [],
   "source": [
    "import numpy as np\n",
    "import pandas as pd\n",
    "\n",
    "np.random.seed(72)"
   ]
  },
  {
   "cell_type": "code",
   "execution_count": 69,
   "id": "ef5baf4a-6984-4d94-86a9-be347edabef9",
   "metadata": {},
   "outputs": [
    {
     "data": {
      "text/plain": [
       "Sun    12\n",
       "Mon    19\n",
       "Tue    28\n",
       "Wed    22\n",
       "Thu    28\n",
       "Fri    22\n",
       "Sat    14\n",
       "Sun    34\n",
       "Mon    20\n",
       "Tue    29\n",
       "Wed    16\n",
       "Thu    19\n",
       "Fri    29\n",
       "Sat    23\n",
       "Sun    18\n",
       "Mon    23\n",
       "Tue    24\n",
       "Wed    11\n",
       "Thu    13\n",
       "Fri    27\n",
       "Sat    12\n",
       "Sun    24\n",
       "Mon    25\n",
       "Tue    25\n",
       "Wed    14\n",
       "Thu    15\n",
       "Fri    23\n",
       "Sat    22\n",
       "dtype: int32"
      ]
     },
     "execution_count": 69,
     "metadata": {},
     "output_type": "execute_result"
    }
   ],
   "source": [
    "week = ['Sun', 'Mon', 'Tue', 'Wed', 'Thu', 'Fri', 'Sat'] * 4\n",
    "temp = pd.Series(5 * np.random.randn(28) + 20, index=week).round().astype(int)\n",
    "temp"
   ]
  },
  {
   "cell_type": "code",
   "execution_count": 71,
   "id": "85f30bac-4ac5-4680-958c-d13a6738c04a",
   "metadata": {},
   "outputs": [
    {
     "data": {
      "text/plain": [
       "21.75"
      ]
     },
     "execution_count": 71,
     "metadata": {},
     "output_type": "execute_result"
    }
   ],
   "source": [
    "temp['Mon'].mean()"
   ]
  },
  {
   "cell_type": "markdown",
   "id": "3395eca7-1f58-4e4f-8152-22e72ce304bd",
   "metadata": {},
   "source": [
    "## Exercise 6"
   ]
  },
  {
   "cell_type": "code",
   "execution_count": 72,
   "id": "d3a45f3f-1164-45e4-908f-dda8c12f7693",
   "metadata": {},
   "outputs": [],
   "source": [
    "import numpy as np\n",
    "import pandas as pd"
   ]
  },
  {
   "cell_type": "code",
   "execution_count": 97,
   "id": "96470b12-1dc9-4fe7-a150-32df84a97538",
   "metadata": {},
   "outputs": [
    {
     "data": {
      "text/plain": [
       "0          1\n",
       "1          1\n",
       "2          3\n",
       "3          5\n",
       "4          5\n",
       "          ..\n",
       "7667787    1\n",
       "7667788    1\n",
       "7667789    1\n",
       "7667790    1\n",
       "7667791    1\n",
       "Name: passenger_count, Length: 7667792, dtype: int64"
      ]
     },
     "execution_count": 97,
     "metadata": {},
     "output_type": "execute_result"
    }
   ],
   "source": [
    "taxi = pd.read_csv('nyc_taxi_2019-01.csv', usecols=['passenger_count'], squeeze=True)\n",
    "taxi"
   ]
  },
  {
   "cell_type": "code",
   "execution_count": 98,
   "id": "febe7d67-cd51-4153-b3e7-8c7b48104465",
   "metadata": {},
   "outputs": [
    {
     "data": {
      "text/plain": [
       "1    0.711564\n",
       "6    0.026189\n",
       "Name: passenger_count, dtype: float64"
      ]
     },
     "execution_count": 98,
     "metadata": {},
     "output_type": "execute_result"
    }
   ],
   "source": [
    "taxi.value_counts(normalize=True)[[1, 6]]"
   ]
  },
  {
   "cell_type": "markdown",
   "id": "a83b1b0a-6c15-4495-8868-008eb3dc9d6a",
   "metadata": {},
   "source": [
    "## Exercise 7"
   ]
  },
  {
   "cell_type": "code",
   "execution_count": 84,
   "id": "2106c73a-d6e3-4ccf-851e-af73bee78e25",
   "metadata": {},
   "outputs": [],
   "source": [
    "import numpy as np\n",
    "import pandas as pd"
   ]
  },
  {
   "cell_type": "code",
   "execution_count": 101,
   "id": "c2db2609-3709-4ddc-b548-c417cd63bcda",
   "metadata": {},
   "outputs": [
    {
     "data": {
      "text/plain": [
       "0          1.50\n",
       "1          2.60\n",
       "2          0.00\n",
       "3          0.00\n",
       "4          0.00\n",
       "           ... \n",
       "7667787    4.79\n",
       "7667788    0.00\n",
       "7667789    0.00\n",
       "7667790    0.00\n",
       "7667791    0.00\n",
       "Name: trip_distance, Length: 7667792, dtype: float64"
      ]
     },
     "execution_count": 101,
     "metadata": {},
     "output_type": "execute_result"
    }
   ],
   "source": [
    "taxi = pd.read_csv('nyc_taxi_2019-01.csv', usecols=['trip_distance'], squeeze=True)\n",
    "taxi"
   ]
  },
  {
   "cell_type": "code",
   "execution_count": 106,
   "id": "b86b6832-9664-4c69-930c-a715296bbf62",
   "metadata": {},
   "outputs": [
    {
     "data": {
      "text/plain": [
       "short     4823186\n",
       "medium    2420887\n",
       "long       423719\n",
       "Name: trip_distance, dtype: int64"
      ]
     },
     "execution_count": 106,
     "metadata": {},
     "output_type": "execute_result"
    }
   ],
   "source": [
    "dist_category = taxi.value_counts(bins=[taxi.min(), 2, 10, taxi.max()])\n",
    "dist_category.index = ['short', 'medium', 'long']\n",
    "dist_category"
   ]
  },
  {
   "cell_type": "code",
   "execution_count": null,
   "id": "8015096e-49a8-4128-9b12-fcd7de8e36c1",
   "metadata": {},
   "outputs": [],
   "source": []
  }
 ],
 "metadata": {
  "kernelspec": {
   "display_name": "Python 3 (ipykernel)",
   "language": "python",
   "name": "python3"
  },
  "language_info": {
   "codemirror_mode": {
    "name": "ipython",
    "version": 3
   },
   "file_extension": ".py",
   "mimetype": "text/x-python",
   "name": "python",
   "nbconvert_exporter": "python",
   "pygments_lexer": "ipython3",
   "version": "3.9.7"
  }
 },
 "nbformat": 4,
 "nbformat_minor": 5
}
